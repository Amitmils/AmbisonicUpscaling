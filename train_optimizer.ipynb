{
 "cells": [
  {
   "cell_type": "code",
   "execution_count": 1,
   "metadata": {},
   "outputs": [
    {
     "name": "stdout",
     "output_type": "stream",
     "text": [
      "Device Name: NVIDIA GeForce RTX 4080 SUPER\n"
     ]
    },
    {
     "data": {
      "text/plain": [
       "56"
      ]
     },
     "execution_count": 1,
     "metadata": {},
     "output_type": "execute_result"
    }
   ],
   "source": [
    "%load_ext autoreload\n",
    "%autoreload 2\n",
    "from sound_field import SoundField,SoundFieldDataset,divide_to_subbands,divide_to_time_windows\n",
    "from signal_info import signal_info\n",
    "from optimizer import optimizer\n",
    "from optimizer_v2 import optimizer_v2\n",
    "from DoA_est import DoA_via_bands\n",
    "import utils\n",
    "import numpy as np\n",
    "import math\n",
    "import time\n",
    "import torch\n",
    "import gc\n",
    "import os\n",
    "from collections import defaultdict,Counter\n",
    "import matplotlib.pyplot as plt\n",
    "from torch.utils.data import DataLoader\n",
    "import time\n",
    "\n",
    "\n",
    "\n",
    "LEBEDEV = 'lebedev'\n",
    "POINTS_162 = '162_points'\n",
    "SQP_OPT_METHOD = \"SQP\"\n",
    "GD_DEEP_OPT_METHOD = \"GD_Deep\"\n",
    "GD_OPT_METHOD = \"GD_lagrange_multi\" #GD_Deep GD_lagrange_multi\n",
    "SLS_OPT_METHOD = \"SLS\"\n",
    "if torch.cuda.is_available():\n",
    "    DEVICE = torch.device(\"cuda:0\")\n",
    "    print(\"Device Name:\", torch.cuda.get_device_name(DEVICE))\n",
    "else:\n",
    "    DEVICE = torch.device(\"cpu\")\n",
    "    print(\"Device Name: CPU\")\n",
    "torch.cuda.empty_cache()  # Free up unused memory on GPU\n",
    "gc.collect()  # Clean up unused memory on CPU\n"
   ]
  },
  {
   "cell_type": "code",
   "execution_count": 2,
   "metadata": {},
   "outputs": [],
   "source": [
    "data_set = torch.load(r\"data\\WSJ0\\Dataset_03_01_25.pt\",weights_only=False)"
   ]
  },
  {
   "cell_type": "code",
   "execution_count": 3,
   "metadata": {},
   "outputs": [],
   "source": [
    "train_set = SoundFieldDataset(data_set['train'],DEVICE)\n",
    "val_set = SoundFieldDataset(data_set['validation'],DEVICE)\n",
    "test_set = SoundFieldDataset(data_set['test'],DEVICE)"
   ]
  },
  {
   "cell_type": "code",
   "execution_count": 4,
   "metadata": {},
   "outputs": [
    {
     "data": {
      "text/plain": [
       "dict_keys(['data', 'device', 'input_order', 'upscaled_order', 'num_bins', 'window_length', 'max_num_windows', 'min_num_speakers', 'max_num_speakers', 'min_theta', 'max_theta', 'min_phi', 'max_phi', 'min_dist', 'sr', 'grid_type', 'P_th', 'P_ph'])"
      ]
     },
     "execution_count": 4,
     "metadata": {},
     "output_type": "execute_result"
    }
   ],
   "source": [
    "train_set.__dict__.keys()"
   ]
  },
  {
   "cell_type": "code",
   "execution_count": 5,
   "metadata": {},
   "outputs": [],
   "source": [
    "batch_size = 1\n",
    "num_epochs = 100\n",
    "\n",
    "down_sample = 1\n",
    "num_bins = 45\n",
    "\n",
    "window_length = 1024\n",
    "max_num_windows = int(1e10)\n",
    "\n",
    "mask = None\n",
    "\n",
    "train_data_loader = DataLoader(train_set, batch_size=batch_size, shuffle=True)\n",
    "val_data_loader = DataLoader(val_set, batch_size=len(val_set), shuffle=True)\n",
    "test_data_loader = DataLoader(test_set, batch_size=len(test_set), shuffle=True)\n",
    "\n",
    "Y_p = utils.create_sh_matrix(train_set.input_order, zen=train_set.P_th, azi=train_set.P_ph).to(DEVICE)\n",
    "Y_p_tag = utils.create_sh_matrix(3, zen=train_set.P_th, azi=train_set.P_ph).to(DEVICE) # upscaling matrix (TODO ADD UPSCALE ORDER TO DATASET INFO)\n",
    "opt_model = optimizer_v2(Y_p=Y_p,alpha=0.01,num_iters=1,device=DEVICE,num_bins=train_set.num_bins,deep_unfolded=True)\n",
    "\n",
    "optimizer = torch.optim.Adam(opt_model.parameters(), lr=1e-3)\n",
    "\n"
   ]
  },
  {
   "cell_type": "code",
   "execution_count": 6,
   "metadata": {},
   "outputs": [],
   "source": [
    "def preprocess_batch(batch, num_bins, down_sample, window_length, max_num_windows,sr):\n",
    "    a_nmt_subbands = divide_to_subbands(batch[0], num_bins=num_bins, downsample=down_sample, sr=sr)\n",
    "    a_nmt_subbands_windowed = divide_to_time_windows(a_nmt_subbands,window_length=window_length, max_num_windows=max_num_windows)\n",
    "\n",
    "    gt_a_nmt_subbands = divide_to_subbands(batch[1], num_bins=num_bins, downsample=down_sample,sr=sr)\n",
    "    gt_a_nmt_subbands_windowed = divide_to_time_windows(anm_t_subbands=gt_a_nmt_subbands,window_length=window_length, max_num_windows=max_num_windows)\n",
    "    print(\"Finished Preprocessing\")\n",
    "    return a_nmt_subbands_windowed,gt_a_nmt_subbands_windowed"
   ]
  },
  {
   "cell_type": "code",
   "execution_count": 7,
   "metadata": {},
   "outputs": [],
   "source": [
    "def loss_func(pred,gt):\n",
    "    #Take only new coefficients\n",
    "    pred_high_order_coeff=pred[:,:,:,(train_set.input_order+1)**2:]\n",
    "    gt_high_order_coeff = gt[:,:,:,(train_set.input_order+1)**2:]\n",
    "    return torch.sum((pred_high_order_coeff-gt_high_order_coeff)**2)/pred_high_order_coeff.shape[0] #Normalize by number of windows"
   ]
  },
  {
   "cell_type": "code",
   "execution_count": null,
   "metadata": {},
   "outputs": [
    {
     "name": "stderr",
     "output_type": "stream",
     "text": [
      "c:\\Users\\amitmils\\Documents\\Repo\\AmbisonicUpscaling\\sound_field.py:70: UserWarning: To copy construct from a tensor, it is recommended to use sourceTensor.clone().detach() or sourceTensor.clone().detach().requires_grad_(True), rather than torch.tensor(sourceTensor).\n",
      "  anm_t_subbands[:, :, coeff] = torch.tensor(erb_bank.subbands.T).clone().detach()\n"
     ]
    }
   ],
   "source": [
    "#Normalization?\n",
    "\n",
    "for epoch in range(num_epochs):\n",
    "    loss = 0 \n",
    "    for i,batch in enumerate(train_data_loader):\n",
    "        low_order_anmt,high_order_anmt = batch\n",
    "        a_nmt_subbands = divide_to_subbands(low_order_anmt, num_bins=num_bins, downsample=down_sample, sr=train_set.sr)\n",
    "        a_nmt_subbands_windowed = divide_to_time_windows(a_nmt_subbands,window_length=window_length, max_num_windows=max_num_windows)\n",
    "        gt_a_nmt_subbands = divide_to_subbands(high_order_anmt, num_bins=num_bins, downsample=down_sample,sr=train_set.sr)\n",
    "        gt_a_nmt_subbands_windowed = divide_to_time_windows(anm_t_subbands=gt_a_nmt_subbands,window_length=window_length, max_num_windows=max_num_windows)\n",
    "        est_sparse_dict_subbands = opt_model.forward(a_nmt_subbands_windowed,mask).permute(0,1,3,2) #change to (#Windows,#Bands,WindowLength,P)\n",
    "        est_upscaled_subbands_windowed = torch.matmul(est_sparse_dict_subbands,Y_p_tag.t())\n",
    "        loss += loss_func(est_upscaled_subbands_windowed,gt_a_nmt_subbands_windowed)\n",
    "        if i % 10 == 0 and i>0:\n",
    "            optimizer.zero_grad()\n",
    "            loss.backward()\n",
    "            optimizer.step()\n",
    "            print(loss)\n",
    "            loss = 0 \n",
    "\n",
    "\n",
    "        \n",
    "\n",
    "\n"
   ]
  },
  {
   "cell_type": "code",
   "execution_count": 13,
   "metadata": {},
   "outputs": [
    {
     "data": {
      "text/plain": [
       "torch.Size([219, 45, 1024, 16])"
      ]
     },
     "execution_count": 13,
     "metadata": {},
     "output_type": "execute_result"
    }
   ],
   "source": [
    "gt_a_nmt_subbands_windowed.shape"
   ]
  },
  {
   "cell_type": "code",
   "execution_count": 18,
   "metadata": {},
   "outputs": [
    {
     "data": {
      "text/plain": [
       "<matplotlib.image.AxesImage at 0x1c94067e2d0>"
      ]
     },
     "execution_count": 18,
     "metadata": {},
     "output_type": "execute_result"
    },
    {
     "data": {
      "image/png": "[encoded data removed]",
      "text/plain": [
       "<Figure size 640x480 with 1 Axes>"
      ]
     },
     "metadata": {},
     "output_type": "display_data"
    }
   ],
   "source": [
    "plt.imshow(gt_a_nmt_subbands_windowed[0,40,:,:].cpu().numpy())"
   ]
  }
 ],
 "metadata": {
  "kernelspec": {
   "display_name": ".venv",
   "language": "python",
   "name": "python3"
  },
  "language_info": {
   "codemirror_mode": {
    "name": "ipython",
    "version": 3
   },
   "file_extension": ".py",
   "mimetype": "text/x-python",
   "name": "python",
   "nbconvert_exporter": "python",
   "pygments_lexer": "ipython3",
   "version": "3.12.8"
  }
 },
 "nbformat": 4,
 "nbformat_minor": 2
}
